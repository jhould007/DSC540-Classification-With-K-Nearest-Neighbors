{
 "cells": [
  {
   "cell_type": "markdown",
   "id": "20423946",
   "metadata": {},
   "source": [
    "# Classification with K-Nearest Neighbors\n",
    "By Josh Houlding\n",
    "\n",
    "Machine learning algorithms help to provide instant predictive results for large amounts of data. One such algorithm, the k-nearest neighbor (kNN) is used for pattern classification, regression models, and is ideal for data mining. Some real-world examples of its use include determining credit card ratings, identifying who's likely to default on a loan, detecting unusual patterns in credit card usage, or predicting the future value of stocks.\n",
    "\n",
    "# Part 1\n",
    "To perform a classification using the k-nearest neighbors algorithm, complete the following:\n",
    "1. Access the \"UCI Machine Learning Repository,\" located in the topic Resources. Note: There are about 120 datasets that are suitable for use in a classification task. For this part of the exercise, you must choose one of these datasets, provided it includes at least 10 attributes and 10,000 instances.\n",
    "2. You may search for data in other repositories, such as Data.gov, Kaggle or Scikit Learn.\n",
    "3. Discuss the origin of the data and assess whether it was obtained in an ethical manner.\n",
    "\n",
    "# Part 2\n",
    "For your selected dataset, build a classification model as follows:\n",
    "1. Explain the dataset and the type of information you wish to gain by applying a classification method.\n",
    "2. Explain the k-nearest neighbors algorithm and how you will be using it in your analysis (list the steps, the intuition behind the mathematical representation, and address its assumptions). Assume k = 5 using the Euclidian distance. Explain the value of k.\n",
    "3. Import the necessary libraries, then read the dataset into a data frame and perform initial statistical exploration.\n",
    "4. Clean the data and address unusual phenomena (e.g., normalization, outliers, missing data, encoding); use illustrative diagrams and plots and explain them.\n",
    "5. Formulate two questions that can be answered by applying a classification method using the k-nearest neighbors method.\n",
    "6. Split the data into 80% training and 20% testing sets.\n",
    "7. Train the k-nearest neighbors classifier on the training set using the following parameters: k = 5, metric = 'minkowski', p = 2. \n",
    "8. Make classification predictions.\n",
    "9. Interpret the results in the context of the questions you asked.\n",
    "10. Validate your model using a confusion matrix, accuracy score, ROC-AUC curves, and k-fold cross validation. Then explain the results.\n",
    "11. Include all mathematical formulas used and graphs representing the final outcomes. <br><br>\n",
    "\n",
    "<hr style=\"height:2px\">"
   ]
  },
  {
   "cell_type": "markdown",
   "id": "3904118d",
   "metadata": {},
   "source": [
    "# <span style=\"color:#8080ff\">Part 1</span>\n",
    "\n",
    "# Tasks 1.1 and 1.2\n",
    "<b>1.1:</b> Access the \"UCI Machine Learning Repository,\" located in the topic Resources. Note: There are about 120 datasets that are suitable for use in a classification task. For this part of the exercise, you must choose one of these datasets, provided it includes at least 10 attributes and 10,000 instances. \n",
    "\n",
    "<b>1.2:</b> You may search for data in other repositories, such as Data.gov, Kaggle or Scikit Learn.\n",
    "\n",
    "After browsing the UCI ML Repository for classification datasets, I found one for predicting whether an adult will make more than <span>&dollar;</span>50k/year based on various factors, such as age, education level, marital status, occupation, capital gains, and so on. \n",
    "\n",
    "<b>Dataset Link:</b> https://archive.ics.uci.edu/dataset/2/adult\n",
    "\n",
    "# Task 1.3\n",
    "Discuss the origin of the data and assess whether it was obtained in an ethical manner.\n",
    "\n",
    "The UCI ML Repo page for this dataset indicates that it was extracted from the 1994 Census database by Barry Becker of Silicon Graphics. US Census data is collected and made publicly available in a highly professional and ethical manner, so this dataset was collected ethically by extension. "
   ]
  },
  {
   "cell_type": "markdown",
   "id": "d77d3db7",
   "metadata": {},
   "source": [
    "# <span style=\"color:#1f6635\">Part 2</span>\n",
    "\n",
    "# Task 2.1\n",
    "Explain the dataset and the type of information you wish to gain by applying a classification method.\n",
    "\n",
    "As previously mentioned, this dataset can be used to predict whether a person will make more than <span>&dollar;</span>50k/year based on various socioeconomic factors. Because there are exactly two classes to sort entries into, this can be considered a binary classification problem. \n",
    "\n",
    "# Task 2.2\n",
    "Explain the k-nearest neighbors algorithm and how you will be using it in your analysis (list the steps, the intuition behind the mathematical representation, and address its assumptions). Assume k = 5 using the Euclidian distance. Explain the value of k.\n",
    "\n",
    "The purpose of the k-nearest neighbors (kNN) algorithm is to group similar items together based on Euclidean distances between their respective points on a graph. First, the data needs to be loaded, then $k$, the number of neighbors, must be initialized ($k = 5$ in this case). This variable represents the number of other points that will be considered when classifying a specific query point. The distance between the query point and current point is now calculated, and the distance and index are added to an ordered collection. Next, the algorithm sorts this collection from smallest to largest and picks the first 5 entries, which constitute the nearest neighbors. Finally, the labels of these entries are acquired, and in classification tasks, kNN returns the mode of these labels. \n",
    "\n",
    "In our case, we will be using kNN to perform binary classification to predict whether someone makes over <span>&dollar;</span>50k/year. \n",
    "\n",
    "# Tasks 2.3 and 2.4\n",
    "<b>2.3:</b> Import the necessary libraries, then read the dataset into a data frame and perform initial statistical exploration.\n",
    "\n",
    "<b>2.4:</b> Clean the data and address unusual phenomena (e.g., normalization, outliers, missing data, encoding); use illustrative diagrams and plots and explain them."
   ]
  },
  {
   "cell_type": "code",
   "execution_count": 219,
   "id": "c537c1a8",
   "metadata": {},
   "outputs": [
    {
     "data": {
      "text/html": [
       "<div>\n",
       "<style scoped>\n",
       "    .dataframe tbody tr th:only-of-type {\n",
       "        vertical-align: middle;\n",
       "    }\n",
       "\n",
       "    .dataframe tbody tr th {\n",
       "        vertical-align: top;\n",
       "    }\n",
       "\n",
       "    .dataframe thead th {\n",
       "        text-align: right;\n",
       "    }\n",
       "</style>\n",
       "<table border=\"1\" class=\"dataframe\">\n",
       "  <thead>\n",
       "    <tr style=\"text-align: right;\">\n",
       "      <th></th>\n",
       "      <th>age</th>\n",
       "      <th>workclass</th>\n",
       "      <th>fnlwgt</th>\n",
       "      <th>education</th>\n",
       "      <th>education_num</th>\n",
       "      <th>marital_status</th>\n",
       "      <th>occupation</th>\n",
       "      <th>relationship</th>\n",
       "      <th>race</th>\n",
       "      <th>sex</th>\n",
       "      <th>capital_gain</th>\n",
       "      <th>capital_loss</th>\n",
       "      <th>hours_per_week</th>\n",
       "      <th>native_country</th>\n",
       "      <th>income</th>\n",
       "    </tr>\n",
       "  </thead>\n",
       "  <tbody>\n",
       "    <tr>\n",
       "      <th>0</th>\n",
       "      <td>39</td>\n",
       "      <td>State-gov</td>\n",
       "      <td>77516</td>\n",
       "      <td>Bachelors</td>\n",
       "      <td>13</td>\n",
       "      <td>Never-married</td>\n",
       "      <td>Adm-clerical</td>\n",
       "      <td>Not-in-family</td>\n",
       "      <td>White</td>\n",
       "      <td>Male</td>\n",
       "      <td>2174</td>\n",
       "      <td>0</td>\n",
       "      <td>40</td>\n",
       "      <td>United-States</td>\n",
       "      <td>&lt;=50K</td>\n",
       "    </tr>\n",
       "    <tr>\n",
       "      <th>1</th>\n",
       "      <td>50</td>\n",
       "      <td>Self-emp-not-inc</td>\n",
       "      <td>83311</td>\n",
       "      <td>Bachelors</td>\n",
       "      <td>13</td>\n",
       "      <td>Married-civ-spouse</td>\n",
       "      <td>Exec-managerial</td>\n",
       "      <td>Husband</td>\n",
       "      <td>White</td>\n",
       "      <td>Male</td>\n",
       "      <td>0</td>\n",
       "      <td>0</td>\n",
       "      <td>13</td>\n",
       "      <td>United-States</td>\n",
       "      <td>&lt;=50K</td>\n",
       "    </tr>\n",
       "    <tr>\n",
       "      <th>2</th>\n",
       "      <td>38</td>\n",
       "      <td>Private</td>\n",
       "      <td>215646</td>\n",
       "      <td>HS-grad</td>\n",
       "      <td>9</td>\n",
       "      <td>Divorced</td>\n",
       "      <td>Handlers-cleaners</td>\n",
       "      <td>Not-in-family</td>\n",
       "      <td>White</td>\n",
       "      <td>Male</td>\n",
       "      <td>0</td>\n",
       "      <td>0</td>\n",
       "      <td>40</td>\n",
       "      <td>United-States</td>\n",
       "      <td>&lt;=50K</td>\n",
       "    </tr>\n",
       "  </tbody>\n",
       "</table>\n",
       "</div>"
      ],
      "text/plain": [
       "   age          workclass  fnlwgt   education  education_num  \\\n",
       "0   39          State-gov   77516   Bachelors             13   \n",
       "1   50   Self-emp-not-inc   83311   Bachelors             13   \n",
       "2   38            Private  215646     HS-grad              9   \n",
       "\n",
       "        marital_status          occupation    relationship    race    sex  \\\n",
       "0        Never-married        Adm-clerical   Not-in-family   White   Male   \n",
       "1   Married-civ-spouse     Exec-managerial         Husband   White   Male   \n",
       "2             Divorced   Handlers-cleaners   Not-in-family   White   Male   \n",
       "\n",
       "   capital_gain  capital_loss  hours_per_week  native_country  income  \n",
       "0          2174             0              40   United-States   <=50K  \n",
       "1             0             0              13   United-States   <=50K  \n",
       "2             0             0              40   United-States   <=50K  "
      ]
     },
     "execution_count": 219,
     "metadata": {},
     "output_type": "execute_result"
    }
   ],
   "source": [
    "import pandas as pd\n",
    "\n",
    "# Load dataset\n",
    "df = pd.read_csv(\"adult.csv\")\n",
    "\n",
    "# View data\n",
    "df.head(3)"
   ]
  },
  {
   "cell_type": "markdown",
   "id": "4a8108bc",
   "metadata": {},
   "source": [
    "The column `fnlwgt` is useful for population-level analysis, but for our purposes of building a predictive model, it is not necessary and can be removed. \n",
    "\n",
    "Additionally, `education` and `education_num` contain the same data, so we will remove `education` since `education_num` is more suitable for modeling due to being numeric. "
   ]
  },
  {
   "cell_type": "code",
   "execution_count": 220,
   "id": "3f1c5c27",
   "metadata": {},
   "outputs": [],
   "source": [
    "# Drop unnecessary columns\n",
    "df.drop(columns={\"fnlwgt\", \"education\"}, inplace=True)\n",
    "\n",
    "# Rename \"education_num\" to \"education\"\n",
    "df.rename(columns={\"education_num\": \"education\"}, inplace=True)"
   ]
  },
  {
   "cell_type": "markdown",
   "id": "28afb016",
   "metadata": {},
   "source": [
    "### Dataset info"
   ]
  },
  {
   "cell_type": "code",
   "execution_count": 221,
   "id": "f785c07d",
   "metadata": {},
   "outputs": [
    {
     "name": "stdout",
     "output_type": "stream",
     "text": [
      "<class 'pandas.core.frame.DataFrame'>\n",
      "RangeIndex: 32561 entries, 0 to 32560\n",
      "Data columns (total 13 columns):\n",
      " #   Column          Non-Null Count  Dtype \n",
      "---  ------          --------------  ----- \n",
      " 0   age             32561 non-null  int64 \n",
      " 1   workclass       32561 non-null  object\n",
      " 2   education       32561 non-null  int64 \n",
      " 3   marital_status  32561 non-null  object\n",
      " 4   occupation      32561 non-null  object\n",
      " 5   relationship    32561 non-null  object\n",
      " 6   race            32561 non-null  object\n",
      " 7   sex             32561 non-null  object\n",
      " 8   capital_gain    32561 non-null  int64 \n",
      " 9   capital_loss    32561 non-null  int64 \n",
      " 10  hours_per_week  32561 non-null  int64 \n",
      " 11  native_country  32561 non-null  object\n",
      " 12  income          32561 non-null  object\n",
      "dtypes: int64(5), object(8)\n",
      "memory usage: 3.2+ MB\n"
     ]
    }
   ],
   "source": [
    "df.info()"
   ]
  },
  {
   "cell_type": "markdown",
   "id": "686b7681",
   "metadata": {},
   "source": [
    "### Descriptive statistics"
   ]
  },
  {
   "cell_type": "code",
   "execution_count": 222,
   "id": "9f00735e",
   "metadata": {},
   "outputs": [
    {
     "data": {
      "text/html": [
       "<div>\n",
       "<style scoped>\n",
       "    .dataframe tbody tr th:only-of-type {\n",
       "        vertical-align: middle;\n",
       "    }\n",
       "\n",
       "    .dataframe tbody tr th {\n",
       "        vertical-align: top;\n",
       "    }\n",
       "\n",
       "    .dataframe thead th {\n",
       "        text-align: right;\n",
       "    }\n",
       "</style>\n",
       "<table border=\"1\" class=\"dataframe\">\n",
       "  <thead>\n",
       "    <tr style=\"text-align: right;\">\n",
       "      <th></th>\n",
       "      <th>age</th>\n",
       "      <th>education</th>\n",
       "      <th>capital_gain</th>\n",
       "      <th>capital_loss</th>\n",
       "      <th>hours_per_week</th>\n",
       "    </tr>\n",
       "  </thead>\n",
       "  <tbody>\n",
       "    <tr>\n",
       "      <th>count</th>\n",
       "      <td>32561.00</td>\n",
       "      <td>32561.00</td>\n",
       "      <td>32561.00</td>\n",
       "      <td>32561.00</td>\n",
       "      <td>32561.00</td>\n",
       "    </tr>\n",
       "    <tr>\n",
       "      <th>mean</th>\n",
       "      <td>38.58</td>\n",
       "      <td>10.08</td>\n",
       "      <td>1077.65</td>\n",
       "      <td>87.30</td>\n",
       "      <td>40.44</td>\n",
       "    </tr>\n",
       "    <tr>\n",
       "      <th>std</th>\n",
       "      <td>13.64</td>\n",
       "      <td>2.57</td>\n",
       "      <td>7385.29</td>\n",
       "      <td>402.96</td>\n",
       "      <td>12.35</td>\n",
       "    </tr>\n",
       "    <tr>\n",
       "      <th>min</th>\n",
       "      <td>17.00</td>\n",
       "      <td>1.00</td>\n",
       "      <td>0.00</td>\n",
       "      <td>0.00</td>\n",
       "      <td>1.00</td>\n",
       "    </tr>\n",
       "    <tr>\n",
       "      <th>25%</th>\n",
       "      <td>28.00</td>\n",
       "      <td>9.00</td>\n",
       "      <td>0.00</td>\n",
       "      <td>0.00</td>\n",
       "      <td>40.00</td>\n",
       "    </tr>\n",
       "    <tr>\n",
       "      <th>50%</th>\n",
       "      <td>37.00</td>\n",
       "      <td>10.00</td>\n",
       "      <td>0.00</td>\n",
       "      <td>0.00</td>\n",
       "      <td>40.00</td>\n",
       "    </tr>\n",
       "    <tr>\n",
       "      <th>75%</th>\n",
       "      <td>48.00</td>\n",
       "      <td>12.00</td>\n",
       "      <td>0.00</td>\n",
       "      <td>0.00</td>\n",
       "      <td>45.00</td>\n",
       "    </tr>\n",
       "    <tr>\n",
       "      <th>max</th>\n",
       "      <td>90.00</td>\n",
       "      <td>16.00</td>\n",
       "      <td>99999.00</td>\n",
       "      <td>4356.00</td>\n",
       "      <td>99.00</td>\n",
       "    </tr>\n",
       "  </tbody>\n",
       "</table>\n",
       "</div>"
      ],
      "text/plain": [
       "            age  education  capital_gain  capital_loss  hours_per_week\n",
       "count  32561.00   32561.00      32561.00      32561.00        32561.00\n",
       "mean      38.58      10.08       1077.65         87.30           40.44\n",
       "std       13.64       2.57       7385.29        402.96           12.35\n",
       "min       17.00       1.00          0.00          0.00            1.00\n",
       "25%       28.00       9.00          0.00          0.00           40.00\n",
       "50%       37.00      10.00          0.00          0.00           40.00\n",
       "75%       48.00      12.00          0.00          0.00           45.00\n",
       "max       90.00      16.00      99999.00       4356.00           99.00"
      ]
     },
     "execution_count": 222,
     "metadata": {},
     "output_type": "execute_result"
    }
   ],
   "source": [
    "df.describe().round(2)"
   ]
  },
  {
   "cell_type": "markdown",
   "id": "a4a7cb48",
   "metadata": {},
   "source": [
    "### Handling missing values"
   ]
  },
  {
   "cell_type": "code",
   "execution_count": 223,
   "id": "5265f88c",
   "metadata": {},
   "outputs": [
    {
     "data": {
      "text/html": [
       "<div>\n",
       "<style scoped>\n",
       "    .dataframe tbody tr th:only-of-type {\n",
       "        vertical-align: middle;\n",
       "    }\n",
       "\n",
       "    .dataframe tbody tr th {\n",
       "        vertical-align: top;\n",
       "    }\n",
       "\n",
       "    .dataframe thead th {\n",
       "        text-align: right;\n",
       "    }\n",
       "</style>\n",
       "<table border=\"1\" class=\"dataframe\">\n",
       "  <thead>\n",
       "    <tr style=\"text-align: right;\">\n",
       "      <th></th>\n",
       "      <th>age</th>\n",
       "      <th>workclass</th>\n",
       "      <th>education</th>\n",
       "      <th>marital_status</th>\n",
       "      <th>occupation</th>\n",
       "      <th>relationship</th>\n",
       "      <th>race</th>\n",
       "      <th>sex</th>\n",
       "      <th>capital_gain</th>\n",
       "      <th>capital_loss</th>\n",
       "      <th>hours_per_week</th>\n",
       "      <th>native_country</th>\n",
       "      <th>income</th>\n",
       "    </tr>\n",
       "  </thead>\n",
       "  <tbody>\n",
       "  </tbody>\n",
       "</table>\n",
       "</div>"
      ],
      "text/plain": [
       "Empty DataFrame\n",
       "Columns: [age, workclass, education, marital_status, occupation, relationship, race, sex, capital_gain, capital_loss, hours_per_week, native_country, income]\n",
       "Index: []"
      ]
     },
     "execution_count": 223,
     "metadata": {},
     "output_type": "execute_result"
    }
   ],
   "source": [
    "# Check for rows with missing values\n",
    "df[df.isna().any(axis=1)]"
   ]
  },
  {
   "cell_type": "markdown",
   "id": "ddffe14e",
   "metadata": {},
   "source": [
    "An initial test says there are no rows with missing values, but the UCI ML Repository page for the dataset claims that `workclass`, `occupation` and `native_country` have missing values. We should check the unique values for these to see if some placeholder value has been used to represent a missing value. \n",
    "\n",
    "I learned that an issue with the CSV file led to every object column having an extra white space before each value, so all object columns must be trimmed. "
   ]
  },
  {
   "cell_type": "code",
   "execution_count": 224,
   "id": "58ddb941",
   "metadata": {},
   "outputs": [],
   "source": [
    "# Trim object values\n",
    "df = df.apply(lambda x: x.str.strip() if x.dtype == \"object\" else x)"
   ]
  },
  {
   "cell_type": "markdown",
   "id": "6b612aed",
   "metadata": {},
   "source": [
    "Now, we check the unique values of these three columns to see if there are any placeholders present: "
   ]
  },
  {
   "cell_type": "code",
   "execution_count": 225,
   "id": "65fef4aa",
   "metadata": {},
   "outputs": [
    {
     "name": "stdout",
     "output_type": "stream",
     "text": [
      "Unique values in column workclass: ['State-gov' 'Self-emp-not-inc' 'Private' 'Federal-gov' 'Local-gov' '?'\n",
      " 'Self-emp-inc' 'Without-pay' 'Never-worked']\n",
      "Unique values in column occupation: ['Adm-clerical' 'Exec-managerial' 'Handlers-cleaners' 'Prof-specialty'\n",
      " 'Other-service' 'Sales' 'Craft-repair' 'Transport-moving'\n",
      " 'Farming-fishing' 'Machine-op-inspct' 'Tech-support' '?'\n",
      " 'Protective-serv' 'Armed-Forces' 'Priv-house-serv']\n",
      "Unique values in column native_country: ['United-States' 'Cuba' 'Jamaica' 'India' '?' 'Mexico' 'South'\n",
      " 'Puerto-Rico' 'Honduras' 'England' 'Canada' 'Germany' 'Iran'\n",
      " 'Philippines' 'Italy' 'Poland' 'Columbia' 'Cambodia' 'Thailand' 'Ecuador'\n",
      " 'Laos' 'Taiwan' 'Haiti' 'Portugal' 'Dominican-Republic' 'El-Salvador'\n",
      " 'France' 'Guatemala' 'China' 'Japan' 'Yugoslavia' 'Peru'\n",
      " 'Outlying-US(Guam-USVI-etc)' 'Scotland' 'Trinadad&Tobago' 'Greece'\n",
      " 'Nicaragua' 'Vietnam' 'Hong' 'Ireland' 'Hungary' 'Holand-Netherlands']\n"
     ]
    }
   ],
   "source": [
    "# Check columns for placeholders\n",
    "for col in [\"workclass\", \"occupation\", \"native_country\"]: \n",
    "    print(f\"Unique values in column {col}: {df[col].unique()}\")"
   ]
  },
  {
   "cell_type": "markdown",
   "id": "f17cc306",
   "metadata": {},
   "source": [
    "We see a placeholder value \"?\" appear in all three columns. Let's see how common this value is. "
   ]
  },
  {
   "cell_type": "code",
   "execution_count": 226,
   "id": "cebeb402",
   "metadata": {},
   "outputs": [
    {
     "name": "stdout",
     "output_type": "stream",
     "text": [
      "Placeholder values in column workclass: 1836/32561\n",
      "Placeholder values in column occupation: 1843/32561\n",
      "Placeholder values in column native_country: 583/32561\n"
     ]
    }
   ],
   "source": [
    "# Check for prevalence of \"?\" placeholder\n",
    "for col in [\"workclass\", \"occupation\", \"native_country\"]: \n",
    "    placeholder_count = df[col].value_counts()[\"?\"]\n",
    "    print(f\"Placeholder values in column {col}: {placeholder_count}/{len(df)}\")"
   ]
  },
  {
   "cell_type": "markdown",
   "id": "ee30925c",
   "metadata": {},
   "source": [
    "We see that about 5% of the values in `workclass` and `occupation` are placeholders, and about 1.7% of the values in `native_country` are. Because these percentages are small, it is easiest to simply drop the entries with \"?\" values. "
   ]
  },
  {
   "cell_type": "code",
   "execution_count": 227,
   "id": "461ee34f",
   "metadata": {},
   "outputs": [
    {
     "name": "stdout",
     "output_type": "stream",
     "text": [
      "Row count before dropping: 32561\n",
      "Row count after dropping: 30162\n"
     ]
    }
   ],
   "source": [
    "import numpy as np\n",
    "\n",
    "print(\"Row count before dropping:\", len(df))\n",
    "\n",
    "# Drop rows with missing values\n",
    "df.replace(\"?\", np.nan, inplace=True)\n",
    "df.dropna(inplace=True)\n",
    "\n",
    "print(\"Row count after dropping:\", len(df))"
   ]
  },
  {
   "cell_type": "markdown",
   "id": "d963200f",
   "metadata": {},
   "source": [
    "Finally, we make sure there are no rows with missing values that we missed."
   ]
  },
  {
   "cell_type": "code",
   "execution_count": 228,
   "id": "fa4e500b",
   "metadata": {},
   "outputs": [
    {
     "name": "stdout",
     "output_type": "stream",
     "text": [
      "Rows with missing values: 0\n"
     ]
    }
   ],
   "source": [
    "# Check again for rows with missing values\n",
    "print(\"Rows with missing values:\", len(df[df.isna().any(axis=1)]))"
   ]
  },
  {
   "cell_type": "markdown",
   "id": "4a0f55e3",
   "metadata": {},
   "source": [
    "### Value counts and distributions"
   ]
  },
  {
   "cell_type": "code",
   "execution_count": 229,
   "id": "1142dd53",
   "metadata": {
    "scrolled": false
   },
   "outputs": [
    {
     "data": {
      "text/plain": [
       "income\n",
       "<=50K    22654\n",
       ">50K      7508\n",
       "Name: count, dtype: int64"
      ]
     },
     "execution_count": 229,
     "metadata": {},
     "output_type": "execute_result"
    }
   ],
   "source": [
    "# Check balance of target \"income\"\n",
    "df[\"income\"].value_counts()"
   ]
  },
  {
   "cell_type": "markdown",
   "id": "037d05b4",
   "metadata": {},
   "source": [
    "We see a significant class imbalance in the target variable, in that there are a lot more people with incomes at most <span>&dollar;</span>50k than there are those with incomes above <span>&dollar;</span>50k. This could have an impact on the accuracy of the model because it will be far more familiar with the majority class. \n",
    "\n",
    "We will now explore the distributions of the numeric variables within our data. "
   ]
  },
  {
   "cell_type": "code",
   "execution_count": 230,
   "id": "edbc59d0",
   "metadata": {},
   "outputs": [
    {
     "data": {
      "image/png": "[encoded data removed]",
      "text/plain": [
       "<Figure size 2000x500 with 5 Axes>"
      ]
     },
     "metadata": {},
     "output_type": "display_data"
    }
   ],
   "source": [
    "import matplotlib.pyplot as plt\n",
    "import seaborn as sns\n",
    "\n",
    "# Select numeric columns\n",
    "numeric_columns = df.select_dtypes(include=[\"int64\", \"float64\"])\n",
    "\n",
    "# Create 1x5 grid for histograms\n",
    "fig, axes = plt.subplots(1, 5, figsize=(20, 5), tight_layout=True)\n",
    "\n",
    "# Plot histograms\n",
    "for ax, col in zip(axes, numeric_columns): \n",
    "    sns.histplot(df[col], ax=ax)\n",
    "    ax.set_title(f\"Distribution of {col}\")\n",
    "\n",
    "plt.show() # Show histograms"
   ]
  },
  {
   "cell_type": "markdown",
   "id": "3138d13a",
   "metadata": {},
   "source": [
    "We see that the mean age is about 35, the typical education level is about 9, and that the vast majority of people have zero capital gains or losses and work 40 hours a week. "
   ]
  },
  {
   "cell_type": "markdown",
   "id": "c81dd757",
   "metadata": {},
   "source": [
    "### Applying label encoding and one-hot encoding \n",
    "\n",
    "My research indicates that label encoding is more suitable for ordinal variables, and one-hot encoding is better for nominal variables. Thus, we will categorize each categorical variable into either ordinal or nominal to decide which type of encoding to use. \n",
    "\n",
    "* `workclass`: Nominal\n",
    "* `education_num`: Ordinal (already numeric, so nothing needs to be done)\n",
    "* `marital_status`: Nominal\n",
    "* `occupation`: Nominal\n",
    "* `relationship`: Nominal\n",
    "* `race`: Nominal\n",
    "* `sex`: Nominal\n",
    "* `native_country`: Nominal\n",
    "\n",
    "The target variable `income` must also be encoded, so let's do that now as well. "
   ]
  },
  {
   "cell_type": "code",
   "execution_count": 231,
   "id": "775a0725",
   "metadata": {},
   "outputs": [
    {
     "data": {
      "text/html": [
       "<div>\n",
       "<style scoped>\n",
       "    .dataframe tbody tr th:only-of-type {\n",
       "        vertical-align: middle;\n",
       "    }\n",
       "\n",
       "    .dataframe tbody tr th {\n",
       "        vertical-align: top;\n",
       "    }\n",
       "\n",
       "    .dataframe thead th {\n",
       "        text-align: right;\n",
       "    }\n",
       "</style>\n",
       "<table border=\"1\" class=\"dataframe\">\n",
       "  <thead>\n",
       "    <tr style=\"text-align: right;\">\n",
       "      <th></th>\n",
       "      <th>age</th>\n",
       "      <th>education</th>\n",
       "      <th>capital_gain</th>\n",
       "      <th>capital_loss</th>\n",
       "      <th>hours_per_week</th>\n",
       "      <th>income</th>\n",
       "      <th>workclass_Local-gov</th>\n",
       "      <th>workclass_Private</th>\n",
       "      <th>workclass_Self-emp-inc</th>\n",
       "      <th>workclass_Self-emp-not-inc</th>\n",
       "      <th>...</th>\n",
       "      <th>native_country_Portugal</th>\n",
       "      <th>native_country_Puerto-Rico</th>\n",
       "      <th>native_country_Scotland</th>\n",
       "      <th>native_country_South</th>\n",
       "      <th>native_country_Taiwan</th>\n",
       "      <th>native_country_Thailand</th>\n",
       "      <th>native_country_Trinadad&amp;Tobago</th>\n",
       "      <th>native_country_United-States</th>\n",
       "      <th>native_country_Vietnam</th>\n",
       "      <th>native_country_Yugoslavia</th>\n",
       "    </tr>\n",
       "  </thead>\n",
       "  <tbody>\n",
       "    <tr>\n",
       "      <th>0</th>\n",
       "      <td>39</td>\n",
       "      <td>13</td>\n",
       "      <td>2174</td>\n",
       "      <td>0</td>\n",
       "      <td>40</td>\n",
       "      <td>0</td>\n",
       "      <td>False</td>\n",
       "      <td>False</td>\n",
       "      <td>False</td>\n",
       "      <td>False</td>\n",
       "      <td>...</td>\n",
       "      <td>False</td>\n",
       "      <td>False</td>\n",
       "      <td>False</td>\n",
       "      <td>False</td>\n",
       "      <td>False</td>\n",
       "      <td>False</td>\n",
       "      <td>False</td>\n",
       "      <td>True</td>\n",
       "      <td>False</td>\n",
       "      <td>False</td>\n",
       "    </tr>\n",
       "  </tbody>\n",
       "</table>\n",
       "<p>1 rows × 81 columns</p>\n",
       "</div>"
      ],
      "text/plain": [
       "   age  education  capital_gain  capital_loss  hours_per_week  income  \\\n",
       "0   39         13          2174             0              40       0   \n",
       "\n",
       "   workclass_Local-gov  workclass_Private  workclass_Self-emp-inc  \\\n",
       "0                False              False                   False   \n",
       "\n",
       "   workclass_Self-emp-not-inc  ...  native_country_Portugal  \\\n",
       "0                       False  ...                    False   \n",
       "\n",
       "   native_country_Puerto-Rico  native_country_Scotland  native_country_South  \\\n",
       "0                       False                    False                 False   \n",
       "\n",
       "   native_country_Taiwan  native_country_Thailand  \\\n",
       "0                  False                    False   \n",
       "\n",
       "   native_country_Trinadad&Tobago  native_country_United-States  \\\n",
       "0                           False                          True   \n",
       "\n",
       "   native_country_Vietnam  native_country_Yugoslavia  \n",
       "0                   False                      False  \n",
       "\n",
       "[1 rows x 81 columns]"
      ]
     },
     "execution_count": 231,
     "metadata": {},
     "output_type": "execute_result"
    }
   ],
   "source": [
    "# Apply one-hot encoding to nominal categorical variables\n",
    "nominal_variables = [\"workclass\", \"marital_status\", \"occupation\", \"relationship\", \"race\", \"sex\", \"native_country\"]\n",
    "df = pd.get_dummies(df, columns=nominal_variables, drop_first=True)\n",
    "\n",
    "# Encode \"income\" as 0 or 1\n",
    "df[\"income\"] = df[\"income\"].apply(lambda x: 1 if x == \">50K\" else 0)\n",
    "\n",
    "df.head(1) # View results"
   ]
  },
  {
   "cell_type": "markdown",
   "id": "00356572",
   "metadata": {},
   "source": [
    "### Normalizing numeric variables\n",
    "\n",
    "We must apply a normalization process to numeric variables so they are all on the same scale for modeling. "
   ]
  },
  {
   "cell_type": "code",
   "execution_count": 232,
   "id": "a9494d05",
   "metadata": {
    "scrolled": true
   },
   "outputs": [
    {
     "data": {
      "text/html": [
       "<div>\n",
       "<style scoped>\n",
       "    .dataframe tbody tr th:only-of-type {\n",
       "        vertical-align: middle;\n",
       "    }\n",
       "\n",
       "    .dataframe tbody tr th {\n",
       "        vertical-align: top;\n",
       "    }\n",
       "\n",
       "    .dataframe thead th {\n",
       "        text-align: right;\n",
       "    }\n",
       "</style>\n",
       "<table border=\"1\" class=\"dataframe\">\n",
       "  <thead>\n",
       "    <tr style=\"text-align: right;\">\n",
       "      <th></th>\n",
       "      <th>age</th>\n",
       "      <th>education</th>\n",
       "      <th>capital_gain</th>\n",
       "      <th>capital_loss</th>\n",
       "      <th>hours_per_week</th>\n",
       "      <th>income</th>\n",
       "      <th>workclass_Local-gov</th>\n",
       "      <th>workclass_Private</th>\n",
       "      <th>workclass_Self-emp-inc</th>\n",
       "      <th>workclass_Self-emp-not-inc</th>\n",
       "      <th>...</th>\n",
       "      <th>native_country_Portugal</th>\n",
       "      <th>native_country_Puerto-Rico</th>\n",
       "      <th>native_country_Scotland</th>\n",
       "      <th>native_country_South</th>\n",
       "      <th>native_country_Taiwan</th>\n",
       "      <th>native_country_Thailand</th>\n",
       "      <th>native_country_Trinadad&amp;Tobago</th>\n",
       "      <th>native_country_United-States</th>\n",
       "      <th>native_country_Vietnam</th>\n",
       "      <th>native_country_Yugoslavia</th>\n",
       "    </tr>\n",
       "  </thead>\n",
       "  <tbody>\n",
       "    <tr>\n",
       "      <th>0</th>\n",
       "      <td>0.30137</td>\n",
       "      <td>0.8</td>\n",
       "      <td>0.02174</td>\n",
       "      <td>0.0</td>\n",
       "      <td>0.397959</td>\n",
       "      <td>0.0</td>\n",
       "      <td>False</td>\n",
       "      <td>False</td>\n",
       "      <td>False</td>\n",
       "      <td>False</td>\n",
       "      <td>...</td>\n",
       "      <td>False</td>\n",
       "      <td>False</td>\n",
       "      <td>False</td>\n",
       "      <td>False</td>\n",
       "      <td>False</td>\n",
       "      <td>False</td>\n",
       "      <td>False</td>\n",
       "      <td>True</td>\n",
       "      <td>False</td>\n",
       "      <td>False</td>\n",
       "    </tr>\n",
       "  </tbody>\n",
       "</table>\n",
       "<p>1 rows × 81 columns</p>\n",
       "</div>"
      ],
      "text/plain": [
       "       age  education  capital_gain  capital_loss  hours_per_week  income  \\\n",
       "0  0.30137        0.8       0.02174           0.0        0.397959     0.0   \n",
       "\n",
       "   workclass_Local-gov  workclass_Private  workclass_Self-emp-inc  \\\n",
       "0                False              False                   False   \n",
       "\n",
       "   workclass_Self-emp-not-inc  ...  native_country_Portugal  \\\n",
       "0                       False  ...                    False   \n",
       "\n",
       "   native_country_Puerto-Rico  native_country_Scotland  native_country_South  \\\n",
       "0                       False                    False                 False   \n",
       "\n",
       "   native_country_Taiwan  native_country_Thailand  \\\n",
       "0                  False                    False   \n",
       "\n",
       "   native_country_Trinadad&Tobago  native_country_United-States  \\\n",
       "0                           False                          True   \n",
       "\n",
       "   native_country_Vietnam  native_country_Yugoslavia  \n",
       "0                   False                      False  \n",
       "\n",
       "[1 rows x 81 columns]"
      ]
     },
     "execution_count": 232,
     "metadata": {},
     "output_type": "execute_result"
    }
   ],
   "source": [
    "from sklearn.preprocessing import MinMaxScaler\n",
    "\n",
    "# Select numeric columns\n",
    "numeric_columns = df.select_dtypes(include=[\"int64\", \"float64\"]).columns\n",
    "\n",
    "# Initialize and apply scaler\n",
    "scaler = MinMaxScaler()\n",
    "df[numeric_columns] = scaler.fit_transform(df[numeric_columns])\n",
    "\n",
    "df.head(1) # View results"
   ]
  },
  {
   "cell_type": "markdown",
   "id": "1186f476",
   "metadata": {},
   "source": [
    "# Task 2.5\n",
    "Formulate two questions that can be answered by applying a classification method using the k-nearest neighbors method.\n",
    "\n",
    "<b>Question 1:</b> \"Can we predict whether a person makes over <span>&dollar;</span>50k a year from their age, education level, hours worked per week and capital gains? <br>\n",
    "<b>Question 2:</b> \"Can we predict whether a person makes over <span>&dollar;</span>50k a year from their workclass, occupation and marital status? <br>\n",
    "\n",
    "We will build separate kNN models to answer each of these questions. \n",
    "\n",
    "# Task 2.6\n",
    "Split the data into 80% training and 20% testing sets."
   ]
  },
  {
   "cell_type": "code",
   "execution_count": 233,
   "id": "609e6b53",
   "metadata": {},
   "outputs": [
    {
     "name": "stdout",
     "output_type": "stream",
     "text": [
      "Question 1 data\n",
      "Training set shape: x = (24129, 3) | y = (24129,).\n",
      "Testing set shape: x = (6033, 3) | y = (6033,).\n",
      "\n",
      "Question 2 data\n",
      "Training set shape: x = (24129, 25) | y = (24129,).\n",
      "Testing set shape: x = (6033, 25) | y = (6033,).\n"
     ]
    }
   ],
   "source": [
    "from sklearn.model_selection import train_test_split\n",
    "\n",
    "# Select Q1 features\n",
    "features_q1 = [\"age\", \"education\", \"hours_per_week\"]\n",
    "x_q1 = df[features_q1]\n",
    "\n",
    "# Select Q2 features\n",
    "original_q2_columns = [\"workclass\", \"occupation\", \"marital_status\"]\n",
    "features_q2 = [col for col in df.columns if any(col.startswith(prefix) for prefix in original_q2_columns)]\n",
    "x_q2 = df[features_q2]\n",
    "\n",
    "# Define target\n",
    "y = df[\"income\"]\n",
    "\n",
    "# Perform train-test split for each feature set\n",
    "x_train_q1, x_test_q1, y_train_q1, y_test_q1 = train_test_split(x_q1, y, test_size=0.2, random_state=42)\n",
    "x_train_q2, x_test_q2, y_train_q2, y_test_q2 = train_test_split(x_q2, y, test_size=0.2, random_state=42)\n",
    "\n",
    "# Display shapes of training and testing sets\n",
    "print(\"Question 1 data\")\n",
    "print(f\"Training set shape: x = {x_train_q1.shape} | y = {y_train_q1.shape}.\")\n",
    "print(f\"Testing set shape: x = {x_test_q1.shape} | y = {y_test_q1.shape}.\")\n",
    "print()\n",
    "\n",
    "print(\"Question 2 data\")\n",
    "print(f\"Training set shape: x = {x_train_q2.shape} | y = {y_train_q2.shape}.\")\n",
    "print(f\"Testing set shape: x = {x_test_q2.shape} | y = {y_test_q2.shape}.\")"
   ]
  },
  {
   "cell_type": "markdown",
   "id": "f93823ed",
   "metadata": {},
   "source": [
    "# Task 2.7\n",
    "Train the k-nearest neighbors classifier on the training set using the following parameters: k = 5, metric = 'minkowski', p = 2.\n",
    "\n",
    "With $p=2$, we are applying the following formula to calculate the Minkowski distance: \n",
    "$% Specific case for p=2 (Euclidean distance)\n",
    "\\begin{equation}\n",
    "d(\\mathbf{x}, \\mathbf{y}) = \\sqrt{ \\sum_{i=1}^n (x_i - y_i)^2 }\n",
    "\\end{equation}$"
   ]
  },
  {
   "cell_type": "code",
   "execution_count": 234,
   "id": "652903fd",
   "metadata": {},
   "outputs": [],
   "source": [
    "from sklearn.neighbors import KNeighborsClassifier\n",
    "\n",
    "# Create kNN classifier for both questions\n",
    "knn_q1 = KNeighborsClassifier(n_neighbors=5, metric=\"minkowski\", p=2)\n",
    "knn_q2 = KNeighborsClassifier(n_neighbors=5, metric=\"minkowski\", p=2)\n",
    "\n",
    "# Train kNN classifiers on training sets\n",
    "knn_q1.fit(x_train_q1, y_train_q1);\n",
    "knn_q2.fit(x_train_q2, y_train_q2);"
   ]
  },
  {
   "cell_type": "markdown",
   "id": "d418f3d4",
   "metadata": {},
   "source": [
    "# Task 2.8\n",
    "Make classification predictions."
   ]
  },
  {
   "cell_type": "code",
   "execution_count": 235,
   "id": "5ce18265",
   "metadata": {},
   "outputs": [],
   "source": [
    "# Make classification predictions for Q1\n",
    "y_pred_q1 = knn_q1.predict(x_test_q1)\n",
    "\n",
    "# Make classification predictions for Q2\n",
    "y_pred_q2 = knn_q2.predict(x_test_q2)"
   ]
  },
  {
   "cell_type": "markdown",
   "id": "a75a96fc",
   "metadata": {},
   "source": [
    "# Tasks 2.9 and 2.10\n",
    "<b>2.9:</b> Interpret the results in the context of the questions you asked.\n",
    "\n",
    "<b>2.10:</b> Validate your model using a confusion matrix, accuracy score, ROC-AUC curves, and k-fold cross validation. Then explain the results. <br><br>\n",
    "\n",
    "<span style=\"color:blue\">Scikit-Learn Confusion Matrix Format</span>\n",
    "<table style=\"margin-left:0;\">\n",
    "    <tr>\n",
    "        <td>True Negatives</td>\n",
    "        <td>False Positives</td>\n",
    "    </tr>\n",
    "    <tr>\n",
    "        <td>False Negatives</td>\n",
    "        <td>True Positives</td>\n",
    "    </tr>\n",
    "    </table>"
   ]
  },
  {
   "cell_type": "markdown",
   "id": "b947b668",
   "metadata": {},
   "source": [
    "### Generating confusion matrices"
   ]
  },
  {
   "cell_type": "code",
   "execution_count": 236,
   "id": "c1f5dfc3",
   "metadata": {},
   "outputs": [
    {
     "name": "stdout",
     "output_type": "stream",
     "text": [
      "Confusion matrix for Q1\n",
      "[[3934  569]\n",
      " [ 856  674]] \n",
      "\n",
      "Confusion matrix for Q2\n",
      "[[4000  503]\n",
      " [ 831  699]]\n"
     ]
    }
   ],
   "source": [
    "from sklearn.metrics import confusion_matrix, classification_report, accuracy_score\n",
    "\n",
    "# Create dataframes with predicted and actual values for Q1 and Q2 models\n",
    "q1_results = pd.DataFrame({\"actual\": y_test_q1, \"predicted\": y_pred_q1})\n",
    "q2_results = pd.DataFrame({\"actual\": y_test_q2, \"predicted\": y_pred_q2})\n",
    "\n",
    "# Generate confusion matrix for Q1 model\n",
    "cm_q1 = confusion_matrix(y_test_q1, y_pred_q1)\n",
    "print(\"Confusion matrix for Q1\")\n",
    "print(cm_q1,\"\\n\")\n",
    "\n",
    "# Generate confusion matrix for Q2 model\n",
    "cm_q2 = confusion_matrix(y_test_q2, y_pred_q2)\n",
    "print(\"Confusion matrix for Q2\")\n",
    "print(cm_q2)"
   ]
  },
  {
   "cell_type": "markdown",
   "id": "4846da6d",
   "metadata": {},
   "source": [
    "The confusion matrices for both models indicate that most classifications are either true positives or true negatives, with true negatives being the largest category for both. \n",
    "\n",
    "### Generating classification reports"
   ]
  },
  {
   "cell_type": "code",
   "execution_count": 237,
   "id": "443607f1",
   "metadata": {},
   "outputs": [
    {
     "name": "stdout",
     "output_type": "stream",
     "text": [
      "Classification report for Q1\n",
      "              precision    recall  f1-score   support\n",
      "\n",
      "         0.0       0.82      0.87      0.85      4503\n",
      "         1.0       0.54      0.44      0.49      1530\n",
      "\n",
      "    accuracy                           0.76      6033\n",
      "   macro avg       0.68      0.66      0.67      6033\n",
      "weighted avg       0.75      0.76      0.76      6033\n",
      "\n",
      "Classification report for Q2\n",
      "              precision    recall  f1-score   support\n",
      "\n",
      "         0.0       0.83      0.89      0.86      4503\n",
      "         1.0       0.58      0.46      0.51      1530\n",
      "\n",
      "    accuracy                           0.78      6033\n",
      "   macro avg       0.70      0.67      0.68      6033\n",
      "weighted avg       0.77      0.78      0.77      6033\n",
      "\n"
     ]
    }
   ],
   "source": [
    "# Generate classification report for Q1 model\n",
    "report_q1 = classification_report(y_test_q1, y_pred_q1)\n",
    "print(\"Classification report for Q1\")\n",
    "print(report_q1)\n",
    "\n",
    "# Generate classification report for Q2 model\n",
    "report_q2 = classification_report(y_test_q2, y_pred_q2)\n",
    "print(\"Classification report for Q2\")\n",
    "print(report_q2)"
   ]
  },
  {
   "cell_type": "markdown",
   "id": "f339d837",
   "metadata": {},
   "source": [
    "Since the F1 score combines precision and recall, we will use that to evaluate the overall performance of each model. The Q1 model has a weighted average F1 score of 0.76 and the Q2 model achieves 0.77, suggesting that both models offer strong classification performance. \n",
    "\n",
    "However, it is important to note that the class imbalance for the target variable `income` has a significant impact on weighted averages, so the score could go down if we dealt with this imbalance earlier with oversampling or undersampling.  "
   ]
  },
  {
   "cell_type": "markdown",
   "id": "c5a10478",
   "metadata": {},
   "source": [
    "### Viewing ROC-AUC curves\n",
    "\n",
    "A requirement of displaying ROC-AUC curves is calculating the true positive rate (TPR) and false positive rate (FPR), as well as the Area Under the Curve (AUC) and overall accuracy. These are defined by the following formulas: \n",
    "\n",
    "<table>\n",
    "    <tr>\n",
    "        <td>True Positive Rate (TPR):</td>\n",
    "        <td>\\begin{equation}\n",
    "\\text{TPR} = \\frac{\\text{TP}}{\\text{TP} + \\text{FN}}\n",
    "            \\end{equation}</td>\n",
    "    </tr>\n",
    "    <tr>\n",
    "        <td>False Positive Rate (FPR):</td>\n",
    "        <td>\\begin{equation}\n",
    "\\text{FPR} = \\frac{\\text{FP}}{\\text{FP} + \\text{TN}}\n",
    "\\end{equation}</td>\n",
    "    </tr>\n",
    "    <tr>\n",
    "        <td>Area Under the Curve (AUC):</td>\n",
    "        <td>\\begin{equation}\n",
    "\\text{AUC} = \\int_{0}^{1} \\text{TPR}(\\text{FPR}) \\, d(\\text{FPR})\n",
    "            \\end{equation}</td>\n",
    "    </tr>\n",
    "    <tr>\n",
    "        <td>Accuracy:</td>\n",
    "        <td>\\begin{equation}\n",
    "\\text{Acc.} = \\frac{\\text{TP} + \\text{TN}}{\\text{TP} + \\text{TN} + \\text{FP} + \\text{FN}}\n",
    "            \\end{equation}</td>\n",
    "    </tr>\n",
    "    </table>"
   ]
  },
  {
   "cell_type": "code",
   "execution_count": 238,
   "id": "4aec1411",
   "metadata": {},
   "outputs": [
    {
     "data": {
      "image/png": "[encoded data removed]",
      "text/plain": [
       "<Figure size 1400x700 with 1 Axes>"
      ]
     },
     "metadata": {},
     "output_type": "display_data"
    }
   ],
   "source": [
    "from sklearn.metrics import roc_curve, roc_auc_score\n",
    "import matplotlib.pyplot as plt\n",
    "\n",
    "# Calculate ROC-AUC metrics for Q1\n",
    "y_prob_q1 = knn_q1.predict_proba(x_test_q1)[:, 1]\n",
    "fpr_q1, tpr_q1, thresholds_q1 = roc_curve(y_test_q1, y_prob_q1)\n",
    "auc_q1 = roc_auc_score(y_test_q1, y_prob_q1)\n",
    "\n",
    "# Calculate ROC-AUC metrics for Q2\n",
    "y_prob_q2 = knn_q2.predict_proba(x_test_q2)[:, 1]\n",
    "fpr_q2, tpr_q2, thresholds_q2 = roc_curve(y_test_q2, y_prob_q2)\n",
    "auc_q2 = roc_auc_score(y_test_q2, y_prob_q2)\n",
    "\n",
    "# Set up plot figure\n",
    "plt.figure(figsize=(14, 7))\n",
    "\n",
    "# Plot ROC-AUC curves\n",
    "plt.plot(fpr_q1, tpr_q1, color='blue', lw=2, label=f'ROC curve for Q1 (AUC = {auc_q1:.2f})')\n",
    "plt.plot(fpr_q2, tpr_q2, color='green', lw=2, label=f'ROC curve for Q2 (AUC = {auc_q2:.2f})')\n",
    "\n",
    "# Configure plot\n",
    "plt.xlabel(\"False Positive Rate\")\n",
    "plt.ylabel(\"True Positive Rate\")\n",
    "plt.title(\"ROC curves for Q1 and Q2\")\n",
    "plt.legend(loc=\"lower right\")\n",
    "\n",
    "plt.show()"
   ]
  },
  {
   "cell_type": "markdown",
   "id": "fb46e3db",
   "metadata": {},
   "source": [
    "The AUC values for both models are between 0.7 and 0.8 and the curves sit closer to the top-left of the plot, suggesting that they are effective at making accurate predictions. Q1's model has a 74% chance of correctly predicting whether an individual will make over <span>&dollar;</span>50k a year (74% accuracy), and Q2's model has a 76% chance. "
   ]
  },
  {
   "cell_type": "markdown",
   "id": "4e6197ab",
   "metadata": {},
   "source": [
    "### Performing k-fold cross-validation"
   ]
  },
  {
   "cell_type": "code",
   "execution_count": 239,
   "id": "3ed33ac8",
   "metadata": {},
   "outputs": [],
   "source": [
    "from sklearn.model_selection import cross_val_score\n",
    "\n",
    "# Calculate k-fold cross-validation scores\n",
    "q1_scores = cross_val_score(knn_q1, x_q1, y, cv=5, scoring=\"accuracy\")\n",
    "q2_scores = cross_val_score(knn_q2, x_q2, y, cv=5, scoring=\"accuracy\")"
   ]
  },
  {
   "cell_type": "code",
   "execution_count": 240,
   "id": "f7beae66",
   "metadata": {},
   "outputs": [
    {
     "name": "stdout",
     "output_type": "stream",
     "text": [
      "Q1 cross-validation scores: [0.76810874 0.75468258 0.76558355 0.7594496  0.76558355]\n",
      "Mean score: 0.763 \n",
      "\n",
      "Q2 cross-validation scores: [0.77374441 0.77308139 0.79990053 0.80520557 0.80951592]\n",
      "Mean score: 0.792\n"
     ]
    }
   ],
   "source": [
    "# Show cross-validation scores for Q1 model\n",
    "print(\"Q1 cross-validation scores:\", q1_scores)\n",
    "print(\"Mean score:\", round(q1_scores.mean(), 3),\"\\n\")\n",
    "\n",
    "print(\"Q2 cross-validation scores:\", q2_scores)\n",
    "print(\"Mean score:\", round(q2_scores.mean(), 3))"
   ]
  },
  {
   "cell_type": "markdown",
   "id": "43a1943d",
   "metadata": {},
   "source": [
    "The results of our k-fold cross-validation tests indicate that the Q1 model has an accuracy of about 76.3%, compared to the Q2 model's accuracy of ~79.2%. Thus, Q2's predictions are accurate 3% more of the time than Q1's, meaning that the combination of an individual's work class, occupation and marital status is a better set of predictors of whether they make over <span>&dollar;</span>50k a year than the combination of their age, education level, hours worked per week and capital gains. "
   ]
  },
  {
   "cell_type": "markdown",
   "id": "6ad9c698",
   "metadata": {},
   "source": [
    "# Task 2.11\n",
    "Include all mathematical formulas used and graphs representing the final outcomes.\n",
    "\n",
    "All relevant formulas and graphs have been included in their respective tasks. "
   ]
  },
  {
   "cell_type": "markdown",
   "id": "b50c4864",
   "metadata": {},
   "source": [
    "# References\n",
    "ChatGPT. (n.d.). https://chat.openai.com/ <br>\n",
    "Gemini. (n.d.). https://gemini.google.com/app <br>"
   ]
  }
 ],
 "metadata": {
  "kernelspec": {
   "display_name": "Python 3 (ipykernel)",
   "language": "python",
   "name": "python3"
  },
  "language_info": {
   "codemirror_mode": {
    "name": "ipython",
    "version": 3
   },
   "file_extension": ".py",
   "mimetype": "text/x-python",
   "name": "python",
   "nbconvert_exporter": "python",
   "pygments_lexer": "ipython3",
   "version": "3.11.5"
  }
 },
 "nbformat": 4,
 "nbformat_minor": 5
}
